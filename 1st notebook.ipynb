{
 "cells": [
  {
   "cell_type": "code",
   "execution_count": 0,
   "metadata": {
    "application/vnd.databricks.v1+cell": {
     "cellMetadata": {
      "byteLimit": 2048000,
      "rowLimit": 10000
     },
     "inputWidgets": {},
     "nuid": "b2ef6e98-e352-452a-9658-079365d9b396",
     "showTitle": false,
     "title": ""
    }
   },
   "outputs": [
    {
     "output_type": "execute_result",
     "data": {
      "text/plain": [
       "True"
      ]
     },
     "execution_count": 3,
     "metadata": {},
     "output_type": "execute_result"
    }
   ],
   "source": [
    "storage_account_name = \"week17storageaccount\"\n",
    "container_name = \"landing\"\n",
    "access_key = dbutils.secrets.get(\"databricks-scope\", \"databricksnewkey\")\n",
    "\n",
    "dbutils.fs.mount(\n",
    "source=f\"wasbs://{container_name}@{storage_account_name}.blob.core.windows.net\",\n",
    "mount_point=\"/mnt/landing\",\n",
    "extra_configs={f\"fs.azure.account.key.{storage_account_name}.blob.core.windows.net\": access_key}\n",
    ")"
   ]
  },
  {
   "cell_type": "code",
   "execution_count": 0,
   "metadata": {
    "application/vnd.databricks.v1+cell": {
     "cellMetadata": {
      "byteLimit": 2048000,
      "rowLimit": 10000
     },
     "inputWidgets": {},
     "nuid": "99d3a15d-4139-4cbc-9178-ec9b0bc88c8f",
     "showTitle": false,
     "title": ""
    }
   },
   "outputs": [
    {
     "output_type": "execute_result",
     "data": {
      "text/plain": [
       "True"
      ]
     },
     "execution_count": 4,
     "metadata": {},
     "output_type": "execute_result"
    }
   ],
   "source": [
    "storage_account_name = \"week17storageaccount\"\n",
    "container_name = \"reporting\"\n",
    "access_key = dbutils.secrets.get(\"databricks-scope\", \"databricksnewkey\")\n",
    "\n",
    "dbutils.fs.mount(\n",
    "source=f\"wasbs://{container_name}@{storage_account_name}.blob.core.windows.net\",\n",
    "mount_point=\"/mnt/reporting\",\n",
    "extra_configs={f\"fs.azure.account.key.{storage_account_name}.blob.core.windows.net\": access_key}\n",
    ")"
   ]
  },
  {
   "cell_type": "code",
   "execution_count": 0,
   "metadata": {
    "application/vnd.databricks.v1+cell": {
     "cellMetadata": {
      "byteLimit": 2048000,
      "rowLimit": 10000
     },
     "inputWidgets": {},
     "nuid": "4b36f927-fb6a-4d49-b8c6-32059b146faa",
     "showTitle": false,
     "title": ""
    }
   },
   "outputs": [
    {
     "output_type": "execute_result",
     "data": {
      "text/plain": [
       "True"
      ]
     },
     "execution_count": 5,
     "metadata": {},
     "output_type": "execute_result"
    }
   ],
   "source": [
    "storage_account_name = \"week17storageaccount\"\n",
    "container_name = \"staging\"\n",
    "access_key = dbutils.secrets.get(\"databricks-scope\", \"databricksnewkey\")\n",
    "\n",
    "dbutils.fs.mount(\n",
    "source=f\"wasbs://{container_name}@{storage_account_name}.blob.core.windows.net\",\n",
    "mount_point=\"/mnt/staging\",\n",
    "extra_configs={f\"fs.azure.account.key.{storage_account_name}.blob.core.windows.net\": access_key}\n",
    ")"
   ]
  },
  {
   "cell_type": "code",
   "execution_count": 0,
   "metadata": {
    "application/vnd.databricks.v1+cell": {
     "cellMetadata": {
      "byteLimit": 2048000,
      "rowLimit": 10000
     },
     "inputWidgets": {},
     "nuid": "92a960b3-78f4-47cb-bc88-89184fa6cb2e",
     "showTitle": false,
     "title": ""
    }
   },
   "outputs": [
    {
     "output_type": "execute_result",
     "data": {
      "text/plain": [
       "[FileInfo(path='dbfs:/mnt/staging/joined_df/_SUCCESS', name='_SUCCESS', size=0, modificationTime=1714791214000),\n",
       " FileInfo(path='dbfs:/mnt/staging/joined_df/orders_year=2013/', name='orders_year=2013/', size=0, modificationTime=0),\n",
       " FileInfo(path='dbfs:/mnt/staging/joined_df/orders_year=2014/', name='orders_year=2014/', size=0, modificationTime=0)]"
      ]
     },
     "execution_count": 10,
     "metadata": {},
     "output_type": "execute_result"
    }
   ],
   "source": [
    "dbutils.fs.ls(\"/mnt/staging/joined_df\")"
   ]
  },
  {
   "cell_type": "code",
   "execution_count": 0,
   "metadata": {
    "application/vnd.databricks.v1+cell": {
     "cellMetadata": {
      "byteLimit": 2048000,
      "rowLimit": 10000
     },
     "inputWidgets": {},
     "nuid": "71fe1c9e-7a40-4b1e-afd3-e5e3db5e776d",
     "showTitle": false,
     "title": ""
    }
   },
   "outputs": [],
   "source": [
    "df = spark.read.parquet(\"/mnt/staging/joined_df/\")"
   ]
  },
  {
   "cell_type": "code",
   "execution_count": 0,
   "metadata": {
    "application/vnd.databricks.v1+cell": {
     "cellMetadata": {
      "byteLimit": 2048000,
      "rowLimit": 10000
     },
     "inputWidgets": {},
     "nuid": "9e4dc1e0-deec-4b55-a253-c7e5159a4a3d",
     "showTitle": false,
     "title": ""
    }
   },
   "outputs": [
    {
     "output_type": "stream",
     "name": "stdout",
     "output_type": "stream",
     "text": [
      "+--------+----------+-----------------+------------+--------------+--------------+----------------+-----------+--------------+-------------+------------+\n|order_id|order_date|order_customer_id|orders_month|customer_fname|customer_lname|customer_zipcode|orders_year|customer_state|customer_city|order_status|\n+--------+----------+-----------------+------------+--------------+--------------+----------------+-----------+--------------+-------------+------------+\n|   25888|2014-01-01|             6735|           1|       Barbara|        Martin|           00725|       2014|            PR|       Caguas|    COMPLETE|\n|   25895|2014-01-01|             1044|           1|         Linda|          Pope|           00725|       2014|            PR|       Caguas|    COMPLETE|\n|   25897|2014-01-01|             6405|           1|          Mary|      Anderson|           00725|       2014|            PR|       Caguas|    COMPLETE|\n|   25901|2014-01-01|             3099|           1|      Brittany|      Copeland|           00725|       2014|            PR|       Caguas|    COMPLETE|\n|   25913|2014-01-01|             9382|           1|          Mary|          Rowe|           00725|       2014|            PR|       Caguas|    COMPLETE|\n|   25914|2014-01-01|             9288|           1|          Mary|         Mason|           00725|       2014|            PR|       Caguas|    COMPLETE|\n|   25916|2014-01-01|             3219|           1|          Mary|        French|           00725|       2014|            PR|       Caguas|    COMPLETE|\n|   25919|2014-01-01|             3052|           1|          Mary|       Morales|           00725|       2014|            PR|       Caguas|    COMPLETE|\n|   25934|2014-01-01|             4567|           1|          Rose|         Smith|           00725|       2014|            PR|       Caguas|    COMPLETE|\n|   25939|2014-01-01|             8989|           1|         Sarah|       Aguilar|           00725|       2014|            PR|       Caguas|    COMPLETE|\n|   25955|2014-01-01|             4962|           1|        Arthur|         Smith|           00725|       2014|            PR|       Caguas|    COMPLETE|\n|   25960|2014-01-01|             7918|           1|          Mary|          Kemp|           00725|       2014|            PR|       Caguas|    COMPLETE|\n|   25970|2014-01-01|              387|           1|          Mary|          Levy|           00725|       2014|            PR|       Caguas|    COMPLETE|\n|   25978|2014-01-01|            11726|           1|        Gloria|         Smith|           00725|       2014|            PR|       Caguas|    COMPLETE|\n|   25980|2014-01-01|              363|           1|      Jennifer|        Obrien|           00725|       2014|            PR|       Caguas|    COMPLETE|\n|   25984|2014-01-01|             5961|           1|         Kevin|          Ruiz|           00725|       2014|            PR|       Caguas|    COMPLETE|\n|   25985|2014-01-01|             3727|           1|         Janet|      Espinoza|           00725|       2014|            PR|       Caguas|    COMPLETE|\n|   25999|2014-01-02|             6921|           1|        Willie|      Stafford|           00725|       2014|            PR|       Caguas|    COMPLETE|\n|   26016|2014-01-02|            12394|           1|      Samantha|          Sims|           00725|       2014|            PR|       Caguas|    COMPLETE|\n|   26023|2014-01-02|             3830|           1|       William|         Smith|           00725|       2014|            PR|       Caguas|    COMPLETE|\n+--------+----------+-----------------+------------+--------------+--------------+----------------+-----------+--------------+-------------+------------+\nonly showing top 20 rows\n\n"
     ]
    }
   ],
   "source": [
    "df.show()"
   ]
  },
  {
   "cell_type": "code",
   "execution_count": 0,
   "metadata": {
    "application/vnd.databricks.v1+cell": {
     "cellMetadata": {
      "byteLimit": 2048000,
      "rowLimit": 10000
     },
     "inputWidgets": {},
     "nuid": "d8d753b1-5365-4be0-9e32-4419c4d19978",
     "showTitle": false,
     "title": ""
    }
   },
   "outputs": [],
   "source": [
    "from pyspark.sql.functions import *\n"
   ]
  },
  {
   "cell_type": "code",
   "execution_count": 0,
   "metadata": {
    "application/vnd.databricks.v1+cell": {
     "cellMetadata": {
      "byteLimit": 2048000,
      "rowLimit": 10000
     },
     "inputWidgets": {},
     "nuid": "8ebdedc0-3436-4754-8874-de5849e97ab0",
     "showTitle": false,
     "title": ""
    }
   },
   "outputs": [],
   "source": [
    "df.select(expr(\"concat(customer_fname, ' ',customer_lname)\").alias(\"customer_name\"), \"customer_city\", \"order_date\", \"order_status\", \"customer_state\", \"orders_year\", \"orders_month\").createOrReplaceTempView(\"order_customer_details\")"
   ]
  },
  {
   "cell_type": "code",
   "execution_count": 0,
   "metadata": {
    "application/vnd.databricks.v1+cell": {
     "cellMetadata": {
      "byteLimit": 2048000,
      "rowLimit": 10000
     },
     "inputWidgets": {},
     "nuid": "a662e149-be5d-43ea-9c5a-fbd121594ae7",
     "showTitle": false,
     "title": ""
    }
   },
   "outputs": [
    {
     "output_type": "stream",
     "name": "stdout",
     "output_type": "stream",
     "text": [
      "+-----------------+-------------+----------+------------+--------------+-----------+------------+\n|    customer_name|customer_city|order_date|order_status|customer_state|orders_year|orders_month|\n+-----------------+-------------+----------+------------+--------------+-----------+------------+\n|   Barbara Martin|       Caguas|2014-01-01|    COMPLETE|            PR|       2014|           1|\n|       Linda Pope|       Caguas|2014-01-01|    COMPLETE|            PR|       2014|           1|\n|    Mary Anderson|       Caguas|2014-01-01|    COMPLETE|            PR|       2014|           1|\n|Brittany Copeland|       Caguas|2014-01-01|    COMPLETE|            PR|       2014|           1|\n|        Mary Rowe|       Caguas|2014-01-01|    COMPLETE|            PR|       2014|           1|\n+-----------------+-------------+----------+------------+--------------+-----------+------------+\n\n"
     ]
    }
   ],
   "source": [
    "spark.sql(\"select * from order_customer_details limit 5\").show()"
   ]
  },
  {
   "cell_type": "code",
   "execution_count": 0,
   "metadata": {
    "application/vnd.databricks.v1+cell": {
     "cellMetadata": {
      "byteLimit": 2048000,
      "rowLimit": 10000
     },
     "inputWidgets": {},
     "nuid": "47250545-9c32-43dd-b214-f026c296594e",
     "showTitle": false,
     "title": ""
    }
   },
   "outputs": [
    {
     "output_type": "execute_result",
     "data": {
      "text/plain": [
       "DataFrame[]"
      ]
     },
     "execution_count": 52,
     "metadata": {},
     "output_type": "execute_result"
    }
   ],
   "source": [
    "spark.sql(\"cache table order_customer_details\")"
   ]
  },
  {
   "cell_type": "code",
   "execution_count": 0,
   "metadata": {
    "application/vnd.databricks.v1+cell": {
     "cellMetadata": {
      "byteLimit": 2048000,
      "rowLimit": 10000
     },
     "inputWidgets": {},
     "nuid": "4ad35ad8-3fed-46f9-a9be-93e7a53531cb",
     "showTitle": false,
     "title": ""
    }
   },
   "outputs": [
    {
     "output_type": "stream",
     "name": "stdout",
     "output_type": "stream",
     "text": [
      "+-----------------+\n|    customer_name|\n+-----------------+\n|   Elizabeth Ball|\n|       Mary Patel|\n|       Mary Baird|\n|     Sandra Smith|\n|  Christina Walsh|\n|    Arthur Fisher|\n|   Mary Patterson|\n|     Henry Turner|\n|    Patrick Smith|\n|    Nancy Gilbert|\n|     Austin Smith|\n|Christopher Sloan|\n| Raymond Richards|\n|       Jose Smith|\n|Christopher Smith|\n|     Janice Novak|\n|        Joe Smith|\n|     Mary Bentley|\n|     Dylan Butler|\n|      Mary Ortega|\n+-----------------+\nonly showing top 20 rows\n\n"
     ]
    }
   ],
   "source": [
    "spark.sql(\"select distinct customer_name from order_customer_details where orders_year == 2014 and customer_state == 'TX' and order_status == 'COMPLETE'\").show()"
   ]
  },
  {
   "cell_type": "code",
   "execution_count": 0,
   "metadata": {
    "application/vnd.databricks.v1+cell": {
     "cellMetadata": {
      "byteLimit": 2048000,
      "rowLimit": 10000
     },
     "inputWidgets": {},
     "nuid": "2b0665fd-748e-4def-8f70-a3de62ae7b38",
     "showTitle": false,
     "title": ""
    }
   },
   "outputs": [
    {
     "output_type": "display_data",
     "data": {
      "text/html": [
       "<div class = \"ansiout\"><b>dbutils.widgets</b> provides utilities for working with notebook widgets. You can create\n",
       "different types of widgets and get their bound value.\n",
       "\n",
       "For more info about a method, use <b>dbutils.widgets.help(\"methodName\")</b>.\n",
       "    <h3></h3><b>combobox(name: String, defaultValue: String, choices: Seq, label: String): void</b> -> Creates a combobox input widget with a given name, default value and choices<br /><b>dropdown(name: String, defaultValue: String, choices: Seq, label: String): void</b> -> Creates a dropdown input widget a with given name, default value and choices<br /><b>get(name: String): String</b> -> Retrieves current value of an input widget<br /><b>getArgument(name: String, optional: String): String</b> -> (DEPRECATED) Equivalent to get<br /><b>multiselect(name: String, defaultValue: String, choices: Seq, label: String): void</b> -> Creates a multiselect input widget with a given name, default value and choices<br /><b>remove(name: String): void</b> -> Removes an input widget from the notebook<br /><b>removeAll: void</b> -> Removes all widgets in the notebook<br /><b>text(name: String, defaultValue: String, label: String): void</b> -> Creates a text input widget with a given name and default value<br /><br /></div>"
      ]
     },
     "metadata": {},
     "output_type": "display_data"
    }
   ],
   "source": [
    "dbutils.widgets.help()"
   ]
  },
  {
   "cell_type": "code",
   "execution_count": 0,
   "metadata": {
    "application/vnd.databricks.v1+cell": {
     "cellMetadata": {
      "byteLimit": 2048000,
      "rowLimit": 10000
     },
     "inputWidgets": {},
     "nuid": "1b17bff4-efae-4e45-ac6a-a9169b3e3ea6",
     "showTitle": false,
     "title": ""
    }
   },
   "outputs": [],
   "source": [
    "dbutils.widgets.dropdown(name='orderstate',defaultValue='TX',choices=['TX','NY','PR'],label='STATE')\n"
   ]
  },
  {
   "cell_type": "code",
   "execution_count": 0,
   "metadata": {
    "application/vnd.databricks.v1+cell": {
     "cellMetadata": {
      "byteLimit": 2048000,
      "rowLimit": 10000
     },
     "inputWidgets": {},
     "nuid": "43b14a20-c34c-4007-8e0b-28ace5b96fde",
     "showTitle": false,
     "title": ""
    }
   },
   "outputs": [],
   "source": [
    "dbutils.widgets.dropdown(name='orderstatus',defaultValue='COMPLETE',choices=['COMPLETE','CLOSED','PROCESSING'],label='STATUS')"
   ]
  },
  {
   "cell_type": "code",
   "execution_count": 0,
   "metadata": {
    "application/vnd.databricks.v1+cell": {
     "cellMetadata": {
      "byteLimit": 2048000,
      "rowLimit": 10000
     },
     "inputWidgets": {},
     "nuid": "69b0f074-66c4-40ff-b0de-e1cdf8853f2b",
     "showTitle": false,
     "title": ""
    }
   },
   "outputs": [],
   "source": [
    "dbutils.widgets.text(name='orderyear',defaultValue=\"2014\",label='YEAR')"
   ]
  },
  {
   "cell_type": "code",
   "execution_count": 0,
   "metadata": {
    "application/vnd.databricks.v1+cell": {
     "cellMetadata": {
      "byteLimit": 2048000,
      "rowLimit": 10000
     },
     "inputWidgets": {},
     "nuid": "ca770279-acb3-4946-b9b9-8abaf0b45e47",
     "showTitle": false,
     "title": ""
    }
   },
   "outputs": [],
   "source": [
    "state = dbutils.widgets.get(\"orderstate\")\n",
    "status = dbutils.widgets.get(\"orderstatus\")\n",
    "year = dbutils.widgets.get(\"orderyear\")"
   ]
  },
  {
   "cell_type": "code",
   "execution_count": 0,
   "metadata": {
    "application/vnd.databricks.v1+cell": {
     "cellMetadata": {
      "byteLimit": 2048000,
      "rowLimit": 10000
     },
     "inputWidgets": {},
     "nuid": "53b688df-a2f8-41b5-8eaa-41cfd86285e9",
     "showTitle": false,
     "title": ""
    }
   },
   "outputs": [
    {
     "output_type": "stream",
     "name": "stdout",
     "output_type": "stream",
     "text": [
      "+-----------------+\n|    customer_name|\n+-----------------+\n|   Elizabeth Ball|\n|       Mary Patel|\n|       Mary Baird|\n|     Sandra Smith|\n|  Christina Walsh|\n|    Arthur Fisher|\n|   Mary Patterson|\n|     Henry Turner|\n|    Patrick Smith|\n|    Nancy Gilbert|\n|     Austin Smith|\n|Christopher Sloan|\n| Raymond Richards|\n|       Jose Smith|\n|Christopher Smith|\n|     Janice Novak|\n|        Joe Smith|\n|     Mary Bentley|\n|     Dylan Butler|\n|      Mary Ortega|\n+-----------------+\nonly showing top 20 rows\n\n"
     ]
    }
   ],
   "source": [
    "spark.sql(f\"select distinct customer_name from order_customer_details where customer_state == '{state}' AND order_status == '{status}' AND orders_year == '{year}'\").show()"
   ]
  },
  {
   "cell_type": "code",
   "execution_count": 0,
   "metadata": {
    "application/vnd.databricks.v1+cell": {
     "cellMetadata": {
      "byteLimit": 2048000,
      "rowLimit": 10000
     },
     "inputWidgets": {},
     "nuid": "6e1ba528-9ac4-48e3-8253-647bbd594bde",
     "showTitle": false,
     "title": ""
    }
   },
   "outputs": [
    {
     "output_type": "stream",
     "name": "stdout",
     "output_type": "stream",
     "text": [
      "TX\n"
     ]
    }
   ],
   "source": [
    "print(state)"
   ]
  },
  {
   "cell_type": "code",
   "execution_count": 0,
   "metadata": {
    "application/vnd.databricks.v1+cell": {
     "cellMetadata": {
      "byteLimit": 2048000,
      "rowLimit": 10000
     },
     "inputWidgets": {},
     "nuid": "6eccd596-d766-4ee9-a2f1-83278d6654da",
     "showTitle": false,
     "title": ""
    }
   },
   "outputs": [
    {
     "output_type": "stream",
     "name": "stdout",
     "output_type": "stream",
     "text": [
      "COMPLETE\n"
     ]
    }
   ],
   "source": [
    "print(status)"
   ]
  },
  {
   "cell_type": "code",
   "execution_count": 0,
   "metadata": {
    "application/vnd.databricks.v1+cell": {
     "cellMetadata": {},
     "inputWidgets": {},
     "nuid": "9d091a65-933f-449b-81b2-0cdbdf9d4410",
     "showTitle": false,
     "title": ""
    }
   },
   "outputs": [],
   "source": []
  }
 ],
 "metadata": {
  "application/vnd.databricks.v1+notebook": {
   "dashboards": [],
   "language": "python",
   "notebookMetadata": {
    "pythonIndentUnit": 4
   },
   "notebookName": "1st notebook",
   "widgets": {
    "orderstate": {
     "currentValue": "TX",
     "nuid": "a297b9fe-037e-4b3d-a3ad-287d6ff0ccfe",
     "typedWidgetInfo": null,
     "widgetInfo": {
      "widgetType": "dropdown",
      "defaultValue": "TX",
      "label": "STATE",
      "name": "orderstate",
      "options": {
       "widgetType": "dropdown",
       "autoCreated": null,
       "choices": [
        "TX",
        "NY",
        "PR"
       ]
      }
     }
    },
    "orderstatus": {
     "currentValue": "COMPLETE",
     "nuid": "e76969f8-990f-4d66-8752-1a4c2694faf1",
     "typedWidgetInfo": null,
     "widgetInfo": {
      "widgetType": "dropdown",
      "defaultValue": "COMPLETE",
      "label": "STATUS",
      "name": "orderstatus",
      "options": {
       "widgetType": "dropdown",
       "autoCreated": null,
       "choices": [
        "COMPLETE",
        "CLOSED",
        "PROCESSING"
       ]
      }
     }
    },
    "orderyear": {
     "currentValue": "2014",
     "nuid": "18f95c32-6055-41ad-82a5-53e77561c0cc",
     "typedWidgetInfo": null,
     "widgetInfo": {
      "widgetType": "text",
      "defaultValue": "2014",
      "label": "YEAR",
      "name": "orderyear",
      "options": {
       "widgetType": "text",
       "autoCreated": null,
       "validationRegex": null
      }
     }
    }
   }
  }
 },
 "nbformat": 4,
 "nbformat_minor": 0
}
