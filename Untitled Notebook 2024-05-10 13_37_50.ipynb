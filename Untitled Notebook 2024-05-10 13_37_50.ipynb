{
 "cells": [
  {
   "cell_type": "code",
   "execution_count": 0,
   "metadata": {
    "application/vnd.databricks.v1+cell": {
     "cellMetadata": {
      "byteLimit": 2048000,
      "rowLimit": 10000
     },
     "inputWidgets": {},
     "nuid": "6dcc9bcd-009c-4660-87a9-6f613a589627",
     "showTitle": false,
     "title": ""
    }
   },
   "outputs": [],
   "source": [
    "orders_df = spark.read.csv(\"abfss://datasets@week18storage.dfs.core.windows.net/orders.csv\", header = True, inferSchema= True)"
   ]
  },
  {
   "cell_type": "code",
   "execution_count": 0,
   "metadata": {
    "application/vnd.databricks.v1+cell": {
     "cellMetadata": {
      "byteLimit": 2048000,
      "rowLimit": 10000
     },
     "inputWidgets": {},
     "nuid": "d3718475-f2fe-4427-9557-0f1dbb47cc61",
     "showTitle": false,
     "title": ""
    }
   },
   "outputs": [
    {
     "output_type": "stream",
     "name": "stdout",
     "output_type": "stream",
     "text": [
      "root\n |-- order_id: integer (nullable = true)\n |-- order_date: timestamp (nullable = true)\n |-- order_customer_id: integer (nullable = true)\n |-- order_status: string (nullable = true)\n\n"
     ]
    }
   ],
   "source": [
    "orders_df.printSchema()"
   ]
  },
  {
   "cell_type": "code",
   "execution_count": 0,
   "metadata": {
    "application/vnd.databricks.v1+cell": {
     "cellMetadata": {
      "byteLimit": 2048000,
      "rowLimit": 10000
     },
     "inputWidgets": {},
     "nuid": "73287274-75ee-49ed-970b-6d16764de5d4",
     "showTitle": false,
     "title": ""
    }
   },
   "outputs": [],
   "source": [
    "df = orders_df.filter(\"order_id between 1 and 100\")"
   ]
  },
  {
   "cell_type": "code",
   "execution_count": 0,
   "metadata": {
    "application/vnd.databricks.v1+cell": {
     "cellMetadata": {
      "byteLimit": 2048000,
      "implicitDf": true,
      "rowLimit": 10000
     },
     "inputWidgets": {},
     "nuid": "a8879f6d-9252-45db-928b-8e2a29f78e4e",
     "showTitle": false,
     "title": ""
    }
   },
   "outputs": [
    {
     "output_type": "display_data",
     "data": {
      "text/html": [
       "<style scoped>\n",
       "  .table-result-container {\n",
       "    max-height: 300px;\n",
       "    overflow: auto;\n",
       "  }\n",
       "  table, th, td {\n",
       "    border: 1px solid black;\n",
       "    border-collapse: collapse;\n",
       "  }\n",
       "  th, td {\n",
       "    padding: 5px;\n",
       "  }\n",
       "  th {\n",
       "    text-align: left;\n",
       "  }\n",
       "</style><div class='table-result-container'><table class='table-result'><thead style='background-color: white'><tr></tr></thead><tbody></tbody></table></div>"
      ]
     },
     "metadata": {
      "application/vnd.databricks.v1+output": {
       "addedWidgets": {},
       "aggData": [],
       "aggError": "",
       "aggOverflow": false,
       "aggSchema": [],
       "aggSeriesLimitReached": false,
       "aggType": "",
       "arguments": {},
       "columnCustomDisplayInfos": {},
       "data": [],
       "datasetInfos": [],
       "dbfsResultPath": null,
       "isJsonSchema": true,
       "metadata": {
        "dataframeName": null
       },
       "overflow": false,
       "plotOptions": {
        "customPlotOptions": {},
        "displayType": "table",
        "pivotAggregation": null,
        "pivotColumns": null,
        "xColumns": null,
        "yColumns": null
       },
       "removedWidgets": [],
       "schema": [],
       "type": "table"
      }
     },
     "output_type": "display_data"
    }
   ],
   "source": [
    "%sql\n",
    "use keerthi_catalog.keerthi_schema"
   ]
  },
  {
   "cell_type": "code",
   "execution_count": 0,
   "metadata": {
    "application/vnd.databricks.v1+cell": {
     "cellMetadata": {
      "byteLimit": 2048000,
      "rowLimit": 10000
     },
     "inputWidgets": {},
     "nuid": "bd025aa2-e865-4512-848b-16c74d3c2165",
     "showTitle": false,
     "title": ""
    }
   },
   "outputs": [],
   "source": [
    "df.write.format(\"delta\").mode(\"overwrite\").partitionBy(\"order_status\").option(\"path\", \"abfss://datasets@week18storage.dfs.core.windows.net/deltatable\").saveAsTable(\"delta2\")"
   ]
  },
  {
   "cell_type": "code",
   "execution_count": 0,
   "metadata": {
    "application/vnd.databricks.v1+cell": {
     "cellMetadata": {
      "byteLimit": 2048000,
      "implicitDf": true,
      "rowLimit": 10000
     },
     "inputWidgets": {},
     "nuid": "481e76e4-9c1d-4525-ba2c-04ee2664914a",
     "showTitle": false,
     "title": ""
    }
   },
   "outputs": [
    {
     "output_type": "display_data",
     "data": {
      "text/html": [
       "<style scoped>\n",
       "  .table-result-container {\n",
       "    max-height: 300px;\n",
       "    overflow: auto;\n",
       "  }\n",
       "  table, th, td {\n",
       "    border: 1px solid black;\n",
       "    border-collapse: collapse;\n",
       "  }\n",
       "  th, td {\n",
       "    padding: 5px;\n",
       "  }\n",
       "  th {\n",
       "    text-align: left;\n",
       "  }\n",
       "</style><div class='table-result-container'><table class='table-result'><thead style='background-color: white'><tr><th>database</th><th>tableName</th><th>isTemporary</th></tr></thead><tbody><tr><td>keerthi_schema</td><td>datasets</td><td>false</td></tr><tr><td>keerthi_schema</td><td>delta</td><td>false</td></tr><tr><td>keerthi_schema</td><td>delta2</td><td>false</td></tr><tr><td>keerthi_schema</td><td>orders</td><td>false</td></tr><tr><td>keerthi_schema</td><td>ordersdelta</td><td>false</td></tr></tbody></table></div>"
      ]
     },
     "metadata": {
      "application/vnd.databricks.v1+output": {
       "addedWidgets": {},
       "aggData": [],
       "aggError": "",
       "aggOverflow": false,
       "aggSchema": [],
       "aggSeriesLimitReached": false,
       "aggType": "",
       "arguments": {},
       "columnCustomDisplayInfos": {},
       "data": [
        [
         "keerthi_schema",
         "datasets",
         false
        ],
        [
         "keerthi_schema",
         "delta",
         false
        ],
        [
         "keerthi_schema",
         "delta2",
         false
        ],
        [
         "keerthi_schema",
         "orders",
         false
        ],
        [
         "keerthi_schema",
         "ordersdelta",
         false
        ]
       ],
       "datasetInfos": [],
       "dbfsResultPath": null,
       "isJsonSchema": true,
       "metadata": {
        "dataframeName": "_sqldf",
        "executionCount": 22
       },
       "overflow": false,
       "plotOptions": {
        "customPlotOptions": {},
        "displayType": "table",
        "pivotAggregation": null,
        "pivotColumns": null,
        "xColumns": null,
        "yColumns": null
       },
       "removedWidgets": [],
       "schema": [
        {
         "metadata": "{}",
         "name": "database",
         "type": "\"string\""
        },
        {
         "metadata": "{}",
         "name": "tableName",
         "type": "\"string\""
        },
        {
         "metadata": "{}",
         "name": "isTemporary",
         "type": "\"boolean\""
        }
       ],
       "type": "table"
      }
     },
     "output_type": "display_data"
    }
   ],
   "source": [
    "%sql\n",
    "show tables"
   ]
  },
  {
   "cell_type": "code",
   "execution_count": 0,
   "metadata": {
    "application/vnd.databricks.v1+cell": {
     "cellMetadata": {
      "byteLimit": 2048000,
      "implicitDf": true,
      "rowLimit": 10000
     },
     "inputWidgets": {},
     "nuid": "daa71bd1-3800-4699-b2f3-cd58c21d6383",
     "showTitle": false,
     "title": ""
    }
   },
   "outputs": [
    {
     "output_type": "display_data",
     "data": {
      "text/html": [
       "<style scoped>\n",
       "  .table-result-container {\n",
       "    max-height: 300px;\n",
       "    overflow: auto;\n",
       "  }\n",
       "  table, th, td {\n",
       "    border: 1px solid black;\n",
       "    border-collapse: collapse;\n",
       "  }\n",
       "  th, td {\n",
       "    padding: 5px;\n",
       "  }\n",
       "  th {\n",
       "    text-align: left;\n",
       "  }\n",
       "</style><div class='table-result-container'><table class='table-result'><thead style='background-color: white'><tr><th>version</th><th>timestamp</th><th>userId</th><th>userName</th><th>operation</th><th>operationParameters</th><th>job</th><th>notebook</th><th>clusterId</th><th>readVersion</th><th>isolationLevel</th><th>isBlindAppend</th><th>operationMetrics</th><th>userMetadata</th><th>engineInfo</th></tr></thead><tbody><tr><td>0</td><td>2024-05-10T17:45:13Z</td><td>7380387950983211</td><td>varman@prasannameghala06outlook.onmicrosoft.com</td><td>CREATE OR REPLACE TABLE AS SELECT</td><td>Map(partitionBy -> [\"order_status\"], description -> null, isManaged -> false, properties -> {}, statsOnLoad -> false)</td><td>null</td><td>List(3180590701567479)</td><td>0510-173242-2nsdl8y3</td><td>null</td><td>WriteSerializable</td><td>false</td><td>Map(numFiles -> 9, numOutputRows -> 100, numOutputBytes -> 11111)</td><td>null</td><td>Databricks-Runtime/13.3.x-scala2.12</td></tr></tbody></table></div>"
      ]
     },
     "metadata": {
      "application/vnd.databricks.v1+output": {
       "addedWidgets": {},
       "aggData": [],
       "aggError": "",
       "aggOverflow": false,
       "aggSchema": [],
       "aggSeriesLimitReached": false,
       "aggType": "",
       "arguments": {},
       "columnCustomDisplayInfos": {},
       "data": [
        [
         0,
         "2024-05-10T17:45:13Z",
         "7380387950983211",
         "varman@prasannameghala06outlook.onmicrosoft.com",
         "CREATE OR REPLACE TABLE AS SELECT",
         {
          "description": null,
          "isManaged": "false",
          "partitionBy": "[\"order_status\"]",
          "properties": "{}",
          "statsOnLoad": "false"
         },
         null,
         [
          "3180590701567479"
         ],
         "0510-173242-2nsdl8y3",
         null,
         "WriteSerializable",
         false,
         {
          "numFiles": "9",
          "numOutputBytes": "11111",
          "numOutputRows": "100"
         },
         null,
         "Databricks-Runtime/13.3.x-scala2.12"
        ]
       ],
       "datasetInfos": [],
       "dbfsResultPath": null,
       "isJsonSchema": true,
       "metadata": {
        "dataframeName": "_sqldf",
        "executionCount": 24
       },
       "overflow": false,
       "plotOptions": {
        "customPlotOptions": {},
        "displayType": "table",
        "pivotAggregation": null,
        "pivotColumns": null,
        "xColumns": null,
        "yColumns": null
       },
       "removedWidgets": [],
       "schema": [
        {
         "metadata": "{}",
         "name": "version",
         "type": "\"long\""
        },
        {
         "metadata": "{}",
         "name": "timestamp",
         "type": "\"timestamp\""
        },
        {
         "metadata": "{}",
         "name": "userId",
         "type": "\"string\""
        },
        {
         "metadata": "{}",
         "name": "userName",
         "type": "\"string\""
        },
        {
         "metadata": "{}",
         "name": "operation",
         "type": "\"string\""
        },
        {
         "metadata": "{}",
         "name": "operationParameters",
         "type": "{\"type\":\"map\",\"keyType\":\"string\",\"valueType\":\"string\",\"valueContainsNull\":true}"
        },
        {
         "metadata": "{}",
         "name": "job",
         "type": "{\"type\":\"struct\",\"fields\":[{\"name\":\"jobId\",\"type\":\"string\",\"nullable\":true,\"metadata\":{}},{\"name\":\"jobName\",\"type\":\"string\",\"nullable\":true,\"metadata\":{}},{\"name\":\"jobRunId\",\"type\":\"string\",\"nullable\":true,\"metadata\":{}},{\"name\":\"runId\",\"type\":\"string\",\"nullable\":true,\"metadata\":{}},{\"name\":\"jobOwnerId\",\"type\":\"string\",\"nullable\":true,\"metadata\":{}},{\"name\":\"triggerType\",\"type\":\"string\",\"nullable\":true,\"metadata\":{}}]}"
        },
        {
         "metadata": "{}",
         "name": "notebook",
         "type": "{\"type\":\"struct\",\"fields\":[{\"name\":\"notebookId\",\"type\":\"string\",\"nullable\":true,\"metadata\":{}}]}"
        },
        {
         "metadata": "{}",
         "name": "clusterId",
         "type": "\"string\""
        },
        {
         "metadata": "{}",
         "name": "readVersion",
         "type": "\"long\""
        },
        {
         "metadata": "{}",
         "name": "isolationLevel",
         "type": "\"string\""
        },
        {
         "metadata": "{}",
         "name": "isBlindAppend",
         "type": "\"boolean\""
        },
        {
         "metadata": "{}",
         "name": "operationMetrics",
         "type": "{\"type\":\"map\",\"keyType\":\"string\",\"valueType\":\"string\",\"valueContainsNull\":true}"
        },
        {
         "metadata": "{}",
         "name": "userMetadata",
         "type": "\"string\""
        },
        {
         "metadata": "{}",
         "name": "engineInfo",
         "type": "\"string\""
        }
       ],
       "type": "table"
      }
     },
     "output_type": "display_data"
    }
   ],
   "source": [
    "%sql\n",
    "describe history delta2"
   ]
  },
  {
   "cell_type": "code",
   "execution_count": 0,
   "metadata": {
    "application/vnd.databricks.v1+cell": {
     "cellMetadata": {
      "byteLimit": 2048000,
      "rowLimit": 10000
     },
     "inputWidgets": {},
     "nuid": "f9c18ccf-cb97-44a8-9704-400374f7c49f",
     "showTitle": false,
     "title": ""
    }
   },
   "outputs": [
    {
     "output_type": "stream",
     "name": "stdout",
     "output_type": "stream",
     "text": [
      "+--------+-------------------+-----------------+---------------+\n|order_id|         order_date|order_customer_id|   order_status|\n+--------+-------------------+-----------------+---------------+\n|       1|2013-07-25 00:00:00|            11599|         CLOSED|\n|       2|2013-07-25 00:00:00|              256|PENDING_PAYMENT|\n|       3|2013-07-25 00:00:00|            12111|       COMPLETE|\n|       4|2013-07-25 00:00:00|             8827|         CLOSED|\n|       5|2013-07-25 00:00:00|            11318|       COMPLETE|\n|       6|2013-07-25 00:00:00|             7130|       COMPLETE|\n|       7|2013-07-25 00:00:00|             4530|       COMPLETE|\n|       8|2013-07-25 00:00:00|             2911|     PROCESSING|\n|       9|2013-07-25 00:00:00|             5657|PENDING_PAYMENT|\n|      10|2013-07-25 00:00:00|             5648|PENDING_PAYMENT|\n|      11|2013-07-25 00:00:00|              918| PAYMENT_REVIEW|\n|      12|2013-07-25 00:00:00|             1837|         CLOSED|\n|      13|2013-07-25 00:00:00|             9149|PENDING_PAYMENT|\n|      14|2013-07-25 00:00:00|             9842|     PROCESSING|\n|      15|2013-07-25 00:00:00|             2568|       COMPLETE|\n|      16|2013-07-25 00:00:00|             7276|PENDING_PAYMENT|\n|      17|2013-07-25 00:00:00|             2667|       COMPLETE|\n|      18|2013-07-25 00:00:00|             1205|         CLOSED|\n|      19|2013-07-25 00:00:00|             9488|PENDING_PAYMENT|\n|      20|2013-07-25 00:00:00|             9198|     PROCESSING|\n+--------+-------------------+-----------------+---------------+\nonly showing top 20 rows\n\n"
     ]
    }
   ],
   "source": [
    "df.show()"
   ]
  },
  {
   "cell_type": "code",
   "execution_count": 0,
   "metadata": {
    "application/vnd.databricks.v1+cell": {
     "cellMetadata": {
      "byteLimit": 2048000,
      "implicitDf": true,
      "rowLimit": 10000
     },
     "inputWidgets": {},
     "nuid": "8a5b7bb5-9565-4ee3-8ae6-c2c2675249cc",
     "showTitle": false,
     "title": ""
    }
   },
   "outputs": [
    {
     "output_type": "display_data",
     "data": {
      "text/html": [
       "<style scoped>\n",
       "  .table-result-container {\n",
       "    max-height: 300px;\n",
       "    overflow: auto;\n",
       "  }\n",
       "  table, th, td {\n",
       "    border: 1px solid black;\n",
       "    border-collapse: collapse;\n",
       "  }\n",
       "  th, td {\n",
       "    padding: 5px;\n",
       "  }\n",
       "  th {\n",
       "    text-align: left;\n",
       "  }\n",
       "</style><div class='table-result-container'><table class='table-result'><thead style='background-color: white'><tr><th>num_affected_rows</th></tr></thead><tbody><tr><td>1</td></tr></tbody></table></div>"
      ]
     },
     "metadata": {
      "application/vnd.databricks.v1+output": {
       "addedWidgets": {},
       "aggData": [],
       "aggError": "",
       "aggOverflow": false,
       "aggSchema": [],
       "aggSeriesLimitReached": false,
       "aggType": "",
       "arguments": {},
       "columnCustomDisplayInfos": {},
       "data": [
        [
         1
        ]
       ],
       "datasetInfos": [],
       "dbfsResultPath": null,
       "isJsonSchema": true,
       "metadata": {
        "dataframeName": "_sqldf",
        "executionCount": 28
       },
       "overflow": false,
       "plotOptions": {
        "customPlotOptions": {},
        "displayType": "table",
        "pivotAggregation": null,
        "pivotColumns": null,
        "xColumns": null,
        "yColumns": null
       },
       "removedWidgets": [],
       "schema": [
        {
         "metadata": "{}",
         "name": "num_affected_rows",
         "type": "\"long\""
        }
       ],
       "type": "table"
      }
     },
     "output_type": "display_data"
    }
   ],
   "source": [
    "%sql\n",
    "update delta2 set order_status = \"COMPLETE\" where order_id = 1;"
   ]
  },
  {
   "cell_type": "code",
   "execution_count": 0,
   "metadata": {
    "application/vnd.databricks.v1+cell": {
     "cellMetadata": {
      "byteLimit": 2048000,
      "implicitDf": true,
      "rowLimit": 10000
     },
     "inputWidgets": {},
     "nuid": "8032922a-5549-42b1-bc0d-36e24614657d",
     "showTitle": false,
     "title": ""
    }
   },
   "outputs": [
    {
     "output_type": "display_data",
     "data": {
      "text/html": [
       "<style scoped>\n",
       "  .table-result-container {\n",
       "    max-height: 300px;\n",
       "    overflow: auto;\n",
       "  }\n",
       "  table, th, td {\n",
       "    border: 1px solid black;\n",
       "    border-collapse: collapse;\n",
       "  }\n",
       "  th, td {\n",
       "    padding: 5px;\n",
       "  }\n",
       "  th {\n",
       "    text-align: left;\n",
       "  }\n",
       "</style><div class='table-result-container'><table class='table-result'><thead style='background-color: white'><tr><th>order_id</th><th>order_date</th><th>order_customer_id</th><th>order_status</th></tr></thead><tbody><tr><td>2</td><td>2013-07-25T00:00:00Z</td><td>256</td><td>PENDING_PAYMENT</td></tr><tr><td>9</td><td>2013-07-25T00:00:00Z</td><td>5657</td><td>PENDING_PAYMENT</td></tr><tr><td>10</td><td>2013-07-25T00:00:00Z</td><td>5648</td><td>PENDING_PAYMENT</td></tr><tr><td>13</td><td>2013-07-25T00:00:00Z</td><td>9149</td><td>PENDING_PAYMENT</td></tr><tr><td>16</td><td>2013-07-25T00:00:00Z</td><td>7276</td><td>PENDING_PAYMENT</td></tr><tr><td>19</td><td>2013-07-25T00:00:00Z</td><td>9488</td><td>PENDING_PAYMENT</td></tr><tr><td>23</td><td>2013-07-25T00:00:00Z</td><td>4367</td><td>PENDING_PAYMENT</td></tr><tr><td>27</td><td>2013-07-25T00:00:00Z</td><td>3241</td><td>PENDING_PAYMENT</td></tr><tr><td>30</td><td>2013-07-25T00:00:00Z</td><td>10039</td><td>PENDING_PAYMENT</td></tr><tr><td>33</td><td>2013-07-25T00:00:00Z</td><td>5793</td><td>PENDING_PAYMENT</td></tr><tr><td>40</td><td>2013-07-25T00:00:00Z</td><td>12092</td><td>PENDING_PAYMENT</td></tr><tr><td>41</td><td>2013-07-25T00:00:00Z</td><td>8136</td><td>PENDING_PAYMENT</td></tr><tr><td>43</td><td>2013-07-25T00:00:00Z</td><td>7776</td><td>PENDING_PAYMENT</td></tr><tr><td>47</td><td>2013-07-25T00:00:00Z</td><td>8487</td><td>PENDING_PAYMENT</td></tr><tr><td>52</td><td>2013-07-25T00:00:00Z</td><td>5126</td><td>PENDING_PAYMENT</td></tr><tr><td>54</td><td>2013-07-25T00:00:00Z</td><td>10628</td><td>PENDING_PAYMENT</td></tr><tr><td>58</td><td>2013-07-25T00:00:00Z</td><td>9213</td><td>PENDING_PAYMENT</td></tr><tr><td>59</td><td>2013-07-25T00:00:00Z</td><td>11644</td><td>PENDING_PAYMENT</td></tr><tr><td>60</td><td>2013-07-25T00:00:00Z</td><td>8365</td><td>PENDING_PAYMENT</td></tr><tr><td>64</td><td>2013-07-25T00:00:00Z</td><td>5579</td><td>PENDING_PAYMENT</td></tr><tr><td>70</td><td>2013-07-25T00:00:00Z</td><td>11809</td><td>PENDING_PAYMENT</td></tr><tr><td>73</td><td>2013-07-25T00:00:00Z</td><td>8504</td><td>PENDING_PAYMENT</td></tr><tr><td>74</td><td>2013-07-25T00:00:00Z</td><td>662</td><td>PENDING_PAYMENT</td></tr><tr><td>75</td><td>2013-07-25T00:00:00Z</td><td>2505</td><td>PENDING_PAYMENT</td></tr><tr><td>77</td><td>2013-07-25T00:00:00Z</td><td>7915</td><td>PENDING_PAYMENT</td></tr><tr><td>79</td><td>2013-07-25T00:00:00Z</td><td>7327</td><td>PENDING_PAYMENT</td></tr><tr><td>82</td><td>2013-07-25T00:00:00Z</td><td>3566</td><td>PENDING_PAYMENT</td></tr><tr><td>86</td><td>2013-07-25T00:00:00Z</td><td>6680</td><td>PENDING_PAYMENT</td></tr><tr><td>93</td><td>2013-07-25T00:00:00Z</td><td>2256</td><td>PENDING_PAYMENT</td></tr><tr><td>99</td><td>2013-07-25T00:00:00Z</td><td>11542</td><td>PENDING_PAYMENT</td></tr><tr><td>3</td><td>2013-07-25T00:00:00Z</td><td>12111</td><td>COMPLETE</td></tr><tr><td>5</td><td>2013-07-25T00:00:00Z</td><td>11318</td><td>COMPLETE</td></tr><tr><td>6</td><td>2013-07-25T00:00:00Z</td><td>7130</td><td>COMPLETE</td></tr><tr><td>7</td><td>2013-07-25T00:00:00Z</td><td>4530</td><td>COMPLETE</td></tr><tr><td>15</td><td>2013-07-25T00:00:00Z</td><td>2568</td><td>COMPLETE</td></tr><tr><td>17</td><td>2013-07-25T00:00:00Z</td><td>2667</td><td>COMPLETE</td></tr><tr><td>22</td><td>2013-07-25T00:00:00Z</td><td>333</td><td>COMPLETE</td></tr><tr><td>26</td><td>2013-07-25T00:00:00Z</td><td>7562</td><td>COMPLETE</td></tr><tr><td>28</td><td>2013-07-25T00:00:00Z</td><td>656</td><td>COMPLETE</td></tr><tr><td>32</td><td>2013-07-25T00:00:00Z</td><td>3960</td><td>COMPLETE</td></tr><tr><td>35</td><td>2013-07-25T00:00:00Z</td><td>4840</td><td>COMPLETE</td></tr><tr><td>45</td><td>2013-07-25T00:00:00Z</td><td>2636</td><td>COMPLETE</td></tr><tr><td>56</td><td>2013-07-25T00:00:00Z</td><td>10519</td><td>COMPLETE</td></tr><tr><td>63</td><td>2013-07-25T00:00:00Z</td><td>1148</td><td>COMPLETE</td></tr><tr><td>65</td><td>2013-07-25T00:00:00Z</td><td>5903</td><td>COMPLETE</td></tr><tr><td>67</td><td>2013-07-25T00:00:00Z</td><td>1406</td><td>COMPLETE</td></tr><tr><td>71</td><td>2013-07-25T00:00:00Z</td><td>8646</td><td>COMPLETE</td></tr><tr><td>72</td><td>2013-07-25T00:00:00Z</td><td>4349</td><td>COMPLETE</td></tr><tr><td>76</td><td>2013-07-25T00:00:00Z</td><td>6898</td><td>COMPLETE</td></tr><tr><td>80</td><td>2013-07-25T00:00:00Z</td><td>3007</td><td>COMPLETE</td></tr><tr><td>83</td><td>2013-07-25T00:00:00Z</td><td>1265</td><td>COMPLETE</td></tr><tr><td>88</td><td>2013-07-25T00:00:00Z</td><td>3809</td><td>COMPLETE</td></tr><tr><td>91</td><td>2013-07-25T00:00:00Z</td><td>8912</td><td>COMPLETE</td></tr><tr><td>92</td><td>2013-07-25T00:00:00Z</td><td>6932</td><td>COMPLETE</td></tr><tr><td>95</td><td>2013-07-25T00:00:00Z</td><td>9032</td><td>COMPLETE</td></tr><tr><td>98</td><td>2013-07-25T00:00:00Z</td><td>5243</td><td>COMPLETE</td></tr><tr><td>8</td><td>2013-07-25T00:00:00Z</td><td>2911</td><td>PROCESSING</td></tr><tr><td>14</td><td>2013-07-25T00:00:00Z</td><td>9842</td><td>PROCESSING</td></tr><tr><td>20</td><td>2013-07-25T00:00:00Z</td><td>9198</td><td>PROCESSING</td></tr><tr><td>29</td><td>2013-07-25T00:00:00Z</td><td>196</td><td>PROCESSING</td></tr><tr><td>34</td><td>2013-07-25T00:00:00Z</td><td>4189</td><td>PROCESSING</td></tr><tr><td>38</td><td>2013-07-25T00:00:00Z</td><td>11586</td><td>PROCESSING</td></tr><tr><td>48</td><td>2013-07-25T00:00:00Z</td><td>12186</td><td>PROCESSING</td></tr><tr><td>53</td><td>2013-07-25T00:00:00Z</td><td>4701</td><td>PROCESSING</td></tr><tr><td>81</td><td>2013-07-25T00:00:00Z</td><td>674</td><td>PROCESSING</td></tr><tr><td>84</td><td>2013-07-25T00:00:00Z</td><td>6789</td><td>PROCESSING</td></tr><tr><td>94</td><td>2013-07-25T00:00:00Z</td><td>11589</td><td>PROCESSING</td></tr><tr><td>100</td><td>2013-07-25T00:00:00Z</td><td>12131</td><td>PROCESSING</td></tr><tr><td>4</td><td>2013-07-25T00:00:00Z</td><td>8827</td><td>CLOSED</td></tr><tr><td>12</td><td>2013-07-25T00:00:00Z</td><td>1837</td><td>CLOSED</td></tr><tr><td>18</td><td>2013-07-25T00:00:00Z</td><td>1205</td><td>CLOSED</td></tr><tr><td>24</td><td>2013-07-25T00:00:00Z</td><td>11441</td><td>CLOSED</td></tr><tr><td>25</td><td>2013-07-25T00:00:00Z</td><td>9503</td><td>CLOSED</td></tr><tr><td>37</td><td>2013-07-25T00:00:00Z</td><td>5863</td><td>CLOSED</td></tr><tr><td>51</td><td>2013-07-25T00:00:00Z</td><td>12271</td><td>CLOSED</td></tr><tr><td>57</td><td>2013-07-25T00:00:00Z</td><td>7073</td><td>CLOSED</td></tr><tr><td>61</td><td>2013-07-25T00:00:00Z</td><td>4791</td><td>CLOSED</td></tr><tr><td>62</td><td>2013-07-25T00:00:00Z</td><td>9111</td><td>CLOSED</td></tr><tr><td>87</td><td>2013-07-25T00:00:00Z</td><td>3065</td><td>CLOSED</td></tr><tr><td>90</td><td>2013-07-25T00:00:00Z</td><td>9131</td><td>CLOSED</td></tr><tr><td>21</td><td>2013-07-25T00:00:00Z</td><td>2711</td><td>PENDING</td></tr><tr><td>36</td><td>2013-07-25T00:00:00Z</td><td>5649</td><td>PENDING</td></tr><tr><td>39</td><td>2013-07-25T00:00:00Z</td><td>8214</td><td>PENDING</td></tr><tr><td>42</td><td>2013-07-25T00:00:00Z</td><td>9776</td><td>PENDING</td></tr><tr><td>44</td><td>2013-07-25T00:00:00Z</td><td>10500</td><td>PENDING</td></tr><tr><td>49</td><td>2013-07-25T00:00:00Z</td><td>1871</td><td>PENDING</td></tr><tr><td>55</td><td>2013-07-25T00:00:00Z</td><td>2052</td><td>PENDING</td></tr><tr><td>68</td><td>2013-07-25T00:00:00Z</td><td>4320</td><td>PENDING</td></tr><tr><td>85</td><td>2013-07-25T00:00:00Z</td><td>1485</td><td>PENDING</td></tr><tr><td>96</td><td>2013-07-25T00:00:00Z</td><td>8683</td><td>PENDING</td></tr><tr><td>97</td><td>2013-07-25T00:00:00Z</td><td>10784</td><td>PENDING</td></tr><tr><td>11</td><td>2013-07-25T00:00:00Z</td><td>918</td><td>PAYMENT_REVIEW</td></tr><tr><td>31</td><td>2013-07-25T00:00:00Z</td><td>6983</td><td>PAYMENT_REVIEW</td></tr><tr><td>78</td><td>2013-07-25T00:00:00Z</td><td>8619</td><td>PAYMENT_REVIEW</td></tr><tr><td>46</td><td>2013-07-25T00:00:00Z</td><td>1549</td><td>ON_HOLD</td></tr><tr><td>66</td><td>2013-07-25T00:00:00Z</td><td>1792</td><td>ON_HOLD</td></tr><tr><td>89</td><td>2013-07-25T00:00:00Z</td><td>824</td><td>ON_HOLD</td></tr><tr><td>69</td><td>2013-07-25T00:00:00Z</td><td>2821</td><td>SUSPECTED_FRAUD</td></tr><tr><td>50</td><td>2013-07-25T00:00:00Z</td><td>5225</td><td>CANCELED</td></tr><tr><td>1</td><td>2013-07-25T00:00:00Z</td><td>11599</td><td>COMPLETE</td></tr></tbody></table></div>"
      ]
     },
     "metadata": {
      "application/vnd.databricks.v1+output": {
       "addedWidgets": {},
       "aggData": [],
       "aggError": "",
       "aggOverflow": false,
       "aggSchema": [],
       "aggSeriesLimitReached": false,
       "aggType": "",
       "arguments": {},
       "columnCustomDisplayInfos": {},
       "data": [
        [
         2,
         "2013-07-25T00:00:00Z",
         256,
         "PENDING_PAYMENT"
        ],
        [
         9,
         "2013-07-25T00:00:00Z",
         5657,
         "PENDING_PAYMENT"
        ],
        [
         10,
         "2013-07-25T00:00:00Z",
         5648,
         "PENDING_PAYMENT"
        ],
        [
         13,
         "2013-07-25T00:00:00Z",
         9149,
         "PENDING_PAYMENT"
        ],
        [
         16,
         "2013-07-25T00:00:00Z",
         7276,
         "PENDING_PAYMENT"
        ],
        [
         19,
         "2013-07-25T00:00:00Z",
         9488,
         "PENDING_PAYMENT"
        ],
        [
         23,
         "2013-07-25T00:00:00Z",
         4367,
         "PENDING_PAYMENT"
        ],
        [
         27,
         "2013-07-25T00:00:00Z",
         3241,
         "PENDING_PAYMENT"
        ],
        [
         30,
         "2013-07-25T00:00:00Z",
         10039,
         "PENDING_PAYMENT"
        ],
        [
         33,
         "2013-07-25T00:00:00Z",
         5793,
         "PENDING_PAYMENT"
        ],
        [
         40,
         "2013-07-25T00:00:00Z",
         12092,
         "PENDING_PAYMENT"
        ],
        [
         41,
         "2013-07-25T00:00:00Z",
         8136,
         "PENDING_PAYMENT"
        ],
        [
         43,
         "2013-07-25T00:00:00Z",
         7776,
         "PENDING_PAYMENT"
        ],
        [
         47,
         "2013-07-25T00:00:00Z",
         8487,
         "PENDING_PAYMENT"
        ],
        [
         52,
         "2013-07-25T00:00:00Z",
         5126,
         "PENDING_PAYMENT"
        ],
        [
         54,
         "2013-07-25T00:00:00Z",
         10628,
         "PENDING_PAYMENT"
        ],
        [
         58,
         "2013-07-25T00:00:00Z",
         9213,
         "PENDING_PAYMENT"
        ],
        [
         59,
         "2013-07-25T00:00:00Z",
         11644,
         "PENDING_PAYMENT"
        ],
        [
         60,
         "2013-07-25T00:00:00Z",
         8365,
         "PENDING_PAYMENT"
        ],
        [
         64,
         "2013-07-25T00:00:00Z",
         5579,
         "PENDING_PAYMENT"
        ],
        [
         70,
         "2013-07-25T00:00:00Z",
         11809,
         "PENDING_PAYMENT"
        ],
        [
         73,
         "2013-07-25T00:00:00Z",
         8504,
         "PENDING_PAYMENT"
        ],
        [
         74,
         "2013-07-25T00:00:00Z",
         662,
         "PENDING_PAYMENT"
        ],
        [
         75,
         "2013-07-25T00:00:00Z",
         2505,
         "PENDING_PAYMENT"
        ],
        [
         77,
         "2013-07-25T00:00:00Z",
         7915,
         "PENDING_PAYMENT"
        ],
        [
         79,
         "2013-07-25T00:00:00Z",
         7327,
         "PENDING_PAYMENT"
        ],
        [
         82,
         "2013-07-25T00:00:00Z",
         3566,
         "PENDING_PAYMENT"
        ],
        [
         86,
         "2013-07-25T00:00:00Z",
         6680,
         "PENDING_PAYMENT"
        ],
        [
         93,
         "2013-07-25T00:00:00Z",
         2256,
         "PENDING_PAYMENT"
        ],
        [
         99,
         "2013-07-25T00:00:00Z",
         11542,
         "PENDING_PAYMENT"
        ],
        [
         3,
         "2013-07-25T00:00:00Z",
         12111,
         "COMPLETE"
        ],
        [
         5,
         "2013-07-25T00:00:00Z",
         11318,
         "COMPLETE"
        ],
        [
         6,
         "2013-07-25T00:00:00Z",
         7130,
         "COMPLETE"
        ],
        [
         7,
         "2013-07-25T00:00:00Z",
         4530,
         "COMPLETE"
        ],
        [
         15,
         "2013-07-25T00:00:00Z",
         2568,
         "COMPLETE"
        ],
        [
         17,
         "2013-07-25T00:00:00Z",
         2667,
         "COMPLETE"
        ],
        [
         22,
         "2013-07-25T00:00:00Z",
         333,
         "COMPLETE"
        ],
        [
         26,
         "2013-07-25T00:00:00Z",
         7562,
         "COMPLETE"
        ],
        [
         28,
         "2013-07-25T00:00:00Z",
         656,
         "COMPLETE"
        ],
        [
         32,
         "2013-07-25T00:00:00Z",
         3960,
         "COMPLETE"
        ],
        [
         35,
         "2013-07-25T00:00:00Z",
         4840,
         "COMPLETE"
        ],
        [
         45,
         "2013-07-25T00:00:00Z",
         2636,
         "COMPLETE"
        ],
        [
         56,
         "2013-07-25T00:00:00Z",
         10519,
         "COMPLETE"
        ],
        [
         63,
         "2013-07-25T00:00:00Z",
         1148,
         "COMPLETE"
        ],
        [
         65,
         "2013-07-25T00:00:00Z",
         5903,
         "COMPLETE"
        ],
        [
         67,
         "2013-07-25T00:00:00Z",
         1406,
         "COMPLETE"
        ],
        [
         71,
         "2013-07-25T00:00:00Z",
         8646,
         "COMPLETE"
        ],
        [
         72,
         "2013-07-25T00:00:00Z",
         4349,
         "COMPLETE"
        ],
        [
         76,
         "2013-07-25T00:00:00Z",
         6898,
         "COMPLETE"
        ],
        [
         80,
         "2013-07-25T00:00:00Z",
         3007,
         "COMPLETE"
        ],
        [
         83,
         "2013-07-25T00:00:00Z",
         1265,
         "COMPLETE"
        ],
        [
         88,
         "2013-07-25T00:00:00Z",
         3809,
         "COMPLETE"
        ],
        [
         91,
         "2013-07-25T00:00:00Z",
         8912,
         "COMPLETE"
        ],
        [
         92,
         "2013-07-25T00:00:00Z",
         6932,
         "COMPLETE"
        ],
        [
         95,
         "2013-07-25T00:00:00Z",
         9032,
         "COMPLETE"
        ],
        [
         98,
         "2013-07-25T00:00:00Z",
         5243,
         "COMPLETE"
        ],
        [
         8,
         "2013-07-25T00:00:00Z",
         2911,
         "PROCESSING"
        ],
        [
         14,
         "2013-07-25T00:00:00Z",
         9842,
         "PROCESSING"
        ],
        [
         20,
         "2013-07-25T00:00:00Z",
         9198,
         "PROCESSING"
        ],
        [
         29,
         "2013-07-25T00:00:00Z",
         196,
         "PROCESSING"
        ],
        [
         34,
         "2013-07-25T00:00:00Z",
         4189,
         "PROCESSING"
        ],
        [
         38,
         "2013-07-25T00:00:00Z",
         11586,
         "PROCESSING"
        ],
        [
         48,
         "2013-07-25T00:00:00Z",
         12186,
         "PROCESSING"
        ],
        [
         53,
         "2013-07-25T00:00:00Z",
         4701,
         "PROCESSING"
        ],
        [
         81,
         "2013-07-25T00:00:00Z",
         674,
         "PROCESSING"
        ],
        [
         84,
         "2013-07-25T00:00:00Z",
         6789,
         "PROCESSING"
        ],
        [
         94,
         "2013-07-25T00:00:00Z",
         11589,
         "PROCESSING"
        ],
        [
         100,
         "2013-07-25T00:00:00Z",
         12131,
         "PROCESSING"
        ],
        [
         4,
         "2013-07-25T00:00:00Z",
         8827,
         "CLOSED"
        ],
        [
         12,
         "2013-07-25T00:00:00Z",
         1837,
         "CLOSED"
        ],
        [
         18,
         "2013-07-25T00:00:00Z",
         1205,
         "CLOSED"
        ],
        [
         24,
         "2013-07-25T00:00:00Z",
         11441,
         "CLOSED"
        ],
        [
         25,
         "2013-07-25T00:00:00Z",
         9503,
         "CLOSED"
        ],
        [
         37,
         "2013-07-25T00:00:00Z",
         5863,
         "CLOSED"
        ],
        [
         51,
         "2013-07-25T00:00:00Z",
         12271,
         "CLOSED"
        ],
        [
         57,
         "2013-07-25T00:00:00Z",
         7073,
         "CLOSED"
        ],
        [
         61,
         "2013-07-25T00:00:00Z",
         4791,
         "CLOSED"
        ],
        [
         62,
         "2013-07-25T00:00:00Z",
         9111,
         "CLOSED"
        ],
        [
         87,
         "2013-07-25T00:00:00Z",
         3065,
         "CLOSED"
        ],
        [
         90,
         "2013-07-25T00:00:00Z",
         9131,
         "CLOSED"
        ],
        [
         21,
         "2013-07-25T00:00:00Z",
         2711,
         "PENDING"
        ],
        [
         36,
         "2013-07-25T00:00:00Z",
         5649,
         "PENDING"
        ],
        [
         39,
         "2013-07-25T00:00:00Z",
         8214,
         "PENDING"
        ],
        [
         42,
         "2013-07-25T00:00:00Z",
         9776,
         "PENDING"
        ],
        [
         44,
         "2013-07-25T00:00:00Z",
         10500,
         "PENDING"
        ],
        [
         49,
         "2013-07-25T00:00:00Z",
         1871,
         "PENDING"
        ],
        [
         55,
         "2013-07-25T00:00:00Z",
         2052,
         "PENDING"
        ],
        [
         68,
         "2013-07-25T00:00:00Z",
         4320,
         "PENDING"
        ],
        [
         85,
         "2013-07-25T00:00:00Z",
         1485,
         "PENDING"
        ],
        [
         96,
         "2013-07-25T00:00:00Z",
         8683,
         "PENDING"
        ],
        [
         97,
         "2013-07-25T00:00:00Z",
         10784,
         "PENDING"
        ],
        [
         11,
         "2013-07-25T00:00:00Z",
         918,
         "PAYMENT_REVIEW"
        ],
        [
         31,
         "2013-07-25T00:00:00Z",
         6983,
         "PAYMENT_REVIEW"
        ],
        [
         78,
         "2013-07-25T00:00:00Z",
         8619,
         "PAYMENT_REVIEW"
        ],
        [
         46,
         "2013-07-25T00:00:00Z",
         1549,
         "ON_HOLD"
        ],
        [
         66,
         "2013-07-25T00:00:00Z",
         1792,
         "ON_HOLD"
        ],
        [
         89,
         "2013-07-25T00:00:00Z",
         824,
         "ON_HOLD"
        ],
        [
         69,
         "2013-07-25T00:00:00Z",
         2821,
         "SUSPECTED_FRAUD"
        ],
        [
         50,
         "2013-07-25T00:00:00Z",
         5225,
         "CANCELED"
        ],
        [
         1,
         "2013-07-25T00:00:00Z",
         11599,
         "COMPLETE"
        ]
       ],
       "datasetInfos": [],
       "dbfsResultPath": null,
       "isJsonSchema": true,
       "metadata": {
        "dataframeName": "_sqldf",
        "executionCount": 30
       },
       "overflow": false,
       "plotOptions": {
        "customPlotOptions": {},
        "displayType": "table",
        "pivotAggregation": null,
        "pivotColumns": null,
        "xColumns": null,
        "yColumns": null
       },
       "removedWidgets": [],
       "schema": [
        {
         "metadata": "{}",
         "name": "order_id",
         "type": "\"integer\""
        },
        {
         "metadata": "{}",
         "name": "order_date",
         "type": "\"timestamp\""
        },
        {
         "metadata": "{}",
         "name": "order_customer_id",
         "type": "\"integer\""
        },
        {
         "metadata": "{}",
         "name": "order_status",
         "type": "\"string\""
        }
       ],
       "type": "table"
      }
     },
     "output_type": "display_data"
    }
   ],
   "source": [
    "%sql\n",
    "select * from delta2"
   ]
  },
  {
   "cell_type": "code",
   "execution_count": 0,
   "metadata": {
    "application/vnd.databricks.v1+cell": {
     "cellMetadata": {
      "byteLimit": 2048000,
      "implicitDf": true,
      "rowLimit": 10000
     },
     "inputWidgets": {},
     "nuid": "4d00ee6d-36e0-4def-8928-c29ec9814033",
     "showTitle": false,
     "title": ""
    }
   },
   "outputs": [
    {
     "output_type": "display_data",
     "data": {
      "text/html": [
       "<style scoped>\n",
       "  .table-result-container {\n",
       "    max-height: 300px;\n",
       "    overflow: auto;\n",
       "  }\n",
       "  table, th, td {\n",
       "    border: 1px solid black;\n",
       "    border-collapse: collapse;\n",
       "  }\n",
       "  th, td {\n",
       "    padding: 5px;\n",
       "  }\n",
       "  th {\n",
       "    text-align: left;\n",
       "  }\n",
       "</style><div class='table-result-container'><table class='table-result'><thead style='background-color: white'><tr><th>num_affected_rows</th></tr></thead><tbody><tr><td>1</td></tr></tbody></table></div>"
      ]
     },
     "metadata": {
      "application/vnd.databricks.v1+output": {
       "addedWidgets": {},
       "aggData": [],
       "aggError": "",
       "aggOverflow": false,
       "aggSchema": [],
       "aggSeriesLimitReached": false,
       "aggType": "",
       "arguments": {},
       "columnCustomDisplayInfos": {},
       "data": [
        [
         1
        ]
       ],
       "datasetInfos": [],
       "dbfsResultPath": null,
       "isJsonSchema": true,
       "metadata": {
        "dataframeName": "_sqldf",
        "executionCount": 34
       },
       "overflow": false,
       "plotOptions": {
        "customPlotOptions": {},
        "displayType": "table",
        "pivotAggregation": null,
        "pivotColumns": null,
        "xColumns": null,
        "yColumns": null
       },
       "removedWidgets": [],
       "schema": [
        {
         "metadata": "{}",
         "name": "num_affected_rows",
         "type": "\"long\""
        }
       ],
       "type": "table"
      }
     },
     "output_type": "display_data"
    }
   ],
   "source": [
    "%sql\n",
    "delete from delta2 where order_id = 100"
   ]
  },
  {
   "cell_type": "code",
   "execution_count": 0,
   "metadata": {
    "application/vnd.databricks.v1+cell": {
     "cellMetadata": {
      "byteLimit": 2048000,
      "implicitDf": true,
      "rowLimit": 10000
     },
     "inputWidgets": {},
     "nuid": "a98847ca-1188-4283-b26f-c5b2cb625874",
     "showTitle": false,
     "title": ""
    }
   },
   "outputs": [
    {
     "output_type": "display_data",
     "data": {
      "text/html": [
       "<style scoped>\n",
       "  .table-result-container {\n",
       "    max-height: 300px;\n",
       "    overflow: auto;\n",
       "  }\n",
       "  table, th, td {\n",
       "    border: 1px solid black;\n",
       "    border-collapse: collapse;\n",
       "  }\n",
       "  th, td {\n",
       "    padding: 5px;\n",
       "  }\n",
       "  th {\n",
       "    text-align: left;\n",
       "  }\n",
       "</style><div class='table-result-container'><table class='table-result'><thead style='background-color: white'><tr><th>count(1)</th></tr></thead><tbody><tr><td>99</td></tr></tbody></table></div>"
      ]
     },
     "metadata": {
      "application/vnd.databricks.v1+output": {
       "addedWidgets": {},
       "aggData": [],
       "aggError": "",
       "aggOverflow": false,
       "aggSchema": [],
       "aggSeriesLimitReached": false,
       "aggType": "",
       "arguments": {},
       "columnCustomDisplayInfos": {},
       "data": [
        [
         99
        ]
       ],
       "datasetInfos": [],
       "dbfsResultPath": null,
       "isJsonSchema": true,
       "metadata": {
        "dataframeName": "_sqldf",
        "executionCount": 55
       },
       "overflow": false,
       "plotOptions": {
        "customPlotOptions": {},
        "displayType": "table",
        "pivotAggregation": null,
        "pivotColumns": null,
        "xColumns": null,
        "yColumns": null
       },
       "removedWidgets": [],
       "schema": [
        {
         "metadata": "{\"__autoGeneratedAlias\":\"true\"}",
         "name": "count(1)",
         "type": "\"long\""
        }
       ],
       "type": "table"
      }
     },
     "output_type": "display_data"
    }
   ],
   "source": [
    "%sql\n",
    "\n",
    "select count(*) from delta2"
   ]
  },
  {
   "cell_type": "code",
   "execution_count": 0,
   "metadata": {
    "application/vnd.databricks.v1+cell": {
     "cellMetadata": {
      "byteLimit": 2048000,
      "implicitDf": true,
      "rowLimit": 10000
     },
     "inputWidgets": {},
     "nuid": "8c479f36-05cb-4db7-8da3-138dc1b87b0e",
     "showTitle": false,
     "title": ""
    }
   },
   "outputs": [
    {
     "output_type": "display_data",
     "data": {
      "text/html": [
       "<style scoped>\n",
       "  .table-result-container {\n",
       "    max-height: 300px;\n",
       "    overflow: auto;\n",
       "  }\n",
       "  table, th, td {\n",
       "    border: 1px solid black;\n",
       "    border-collapse: collapse;\n",
       "  }\n",
       "  th, td {\n",
       "    padding: 5px;\n",
       "  }\n",
       "  th {\n",
       "    text-align: left;\n",
       "  }\n",
       "</style><div class='table-result-container'><table class='table-result'><thead style='background-color: white'><tr><th>count(1)</th></tr></thead><tbody><tr><td>99</td></tr></tbody></table></div>"
      ]
     },
     "metadata": {
      "application/vnd.databricks.v1+output": {
       "addedWidgets": {},
       "aggData": [],
       "aggError": "",
       "aggOverflow": false,
       "aggSchema": [],
       "aggSeriesLimitReached": false,
       "aggType": "",
       "arguments": {},
       "columnCustomDisplayInfos": {},
       "data": [
        [
         99
        ]
       ],
       "datasetInfos": [],
       "dbfsResultPath": null,
       "isJsonSchema": true,
       "metadata": {
        "dataframeName": "_sqldf",
        "executionCount": 57
       },
       "overflow": false,
       "plotOptions": {
        "customPlotOptions": {},
        "displayType": "table",
        "pivotAggregation": null,
        "pivotColumns": null,
        "xColumns": null,
        "yColumns": null
       },
       "removedWidgets": [],
       "schema": [
        {
         "metadata": "{\"__autoGeneratedAlias\":\"true\"}",
         "name": "count(1)",
         "type": "\"long\""
        }
       ],
       "type": "table"
      }
     },
     "output_type": "display_data"
    }
   ],
   "source": [
    "%sql\n",
    "select count(*) from delta2 version as of 2"
   ]
  },
  {
   "cell_type": "code",
   "execution_count": 0,
   "metadata": {
    "application/vnd.databricks.v1+cell": {
     "cellMetadata": {
      "byteLimit": 2048000,
      "implicitDf": true,
      "rowLimit": 10000
     },
     "inputWidgets": {},
     "nuid": "5e9a0b5e-71a3-473f-b209-9f2d7142b646",
     "showTitle": false,
     "title": ""
    }
   },
   "outputs": [
    {
     "output_type": "display_data",
     "data": {
      "text/html": [
       "<style scoped>\n",
       "  .table-result-container {\n",
       "    max-height: 300px;\n",
       "    overflow: auto;\n",
       "  }\n",
       "  table, th, td {\n",
       "    border: 1px solid black;\n",
       "    border-collapse: collapse;\n",
       "  }\n",
       "  th, td {\n",
       "    padding: 5px;\n",
       "  }\n",
       "  th {\n",
       "    text-align: left;\n",
       "  }\n",
       "</style><div class='table-result-container'><table class='table-result'><thead style='background-color: white'><tr><th>count</th></tr></thead><tbody><tr><td>100</td></tr></tbody></table></div>"
      ]
     },
     "metadata": {
      "application/vnd.databricks.v1+output": {
       "addedWidgets": {},
       "aggData": [],
       "aggError": "",
       "aggOverflow": false,
       "aggSchema": [],
       "aggSeriesLimitReached": false,
       "aggType": "",
       "arguments": {},
       "columnCustomDisplayInfos": {},
       "data": [
        [
         100
        ]
       ],
       "datasetInfos": [],
       "dbfsResultPath": null,
       "isJsonSchema": true,
       "metadata": {
        "dataframeName": "_sqldf",
        "executionCount": 59
       },
       "overflow": false,
       "plotOptions": {
        "customPlotOptions": {},
        "displayType": "table",
        "pivotAggregation": null,
        "pivotColumns": null,
        "xColumns": null,
        "yColumns": null
       },
       "removedWidgets": [],
       "schema": [
        {
         "metadata": "{}",
         "name": "count",
         "type": "\"long\""
        }
       ],
       "type": "table"
      }
     },
     "output_type": "display_data"
    }
   ],
   "source": [
    "%sql\n",
    "\n",
    "select count(*) as count from delta2 version as of 1\n"
   ]
  },
  {
   "cell_type": "code",
   "execution_count": 0,
   "metadata": {
    "application/vnd.databricks.v1+cell": {
     "cellMetadata": {
      "byteLimit": 2048000,
      "implicitDf": true,
      "rowLimit": 10000
     },
     "inputWidgets": {},
     "nuid": "634bdc83-8b10-45f2-a709-44c9d8d367ba",
     "showTitle": false,
     "title": ""
    }
   },
   "outputs": [
    {
     "output_type": "display_data",
     "data": {
      "text/html": [
       "<style scoped>\n",
       "  .table-result-container {\n",
       "    max-height: 300px;\n",
       "    overflow: auto;\n",
       "  }\n",
       "  table, th, td {\n",
       "    border: 1px solid black;\n",
       "    border-collapse: collapse;\n",
       "  }\n",
       "  th, td {\n",
       "    padding: 5px;\n",
       "  }\n",
       "  th {\n",
       "    text-align: left;\n",
       "  }\n",
       "</style><div class='table-result-container'><table class='table-result'><thead style='background-color: white'><tr><th>table_size_after_restore</th><th>num_of_files_after_restore</th><th>num_removed_files</th><th>num_restored_files</th><th>removed_files_size</th><th>restored_files_size</th></tr></thead><tbody><tr><td>11111</td><td>9</td><td>3</td><td>2</td><td>3628</td><td>2496</td></tr></tbody></table></div>"
      ]
     },
     "metadata": {
      "application/vnd.databricks.v1+output": {
       "addedWidgets": {},
       "aggData": [],
       "aggError": "",
       "aggOverflow": false,
       "aggSchema": [],
       "aggSeriesLimitReached": false,
       "aggType": "",
       "arguments": {},
       "columnCustomDisplayInfos": {},
       "data": [
        [
         11111,
         9,
         3,
         2,
         3628,
         2496
        ]
       ],
       "datasetInfos": [],
       "dbfsResultPath": null,
       "isJsonSchema": true,
       "metadata": {
        "dataframeName": "_sqldf",
        "executionCount": 61
       },
       "overflow": false,
       "plotOptions": {
        "customPlotOptions": {},
        "displayType": "table",
        "pivotAggregation": null,
        "pivotColumns": null,
        "xColumns": null,
        "yColumns": null
       },
       "removedWidgets": [],
       "schema": [
        {
         "metadata": "{}",
         "name": "table_size_after_restore",
         "type": "\"long\""
        },
        {
         "metadata": "{}",
         "name": "num_of_files_after_restore",
         "type": "\"long\""
        },
        {
         "metadata": "{}",
         "name": "num_removed_files",
         "type": "\"long\""
        },
        {
         "metadata": "{}",
         "name": "num_restored_files",
         "type": "\"long\""
        },
        {
         "metadata": "{}",
         "name": "removed_files_size",
         "type": "\"long\""
        },
        {
         "metadata": "{}",
         "name": "restored_files_size",
         "type": "\"long\""
        }
       ],
       "type": "table"
      }
     },
     "output_type": "display_data"
    }
   ],
   "source": [
    "%sql\n",
    "restore table delta2 version as of 0;"
   ]
  },
  {
   "cell_type": "code",
   "execution_count": 0,
   "metadata": {
    "application/vnd.databricks.v1+cell": {
     "cellMetadata": {
      "byteLimit": 2048000,
      "implicitDf": true,
      "rowLimit": 10000
     },
     "inputWidgets": {},
     "nuid": "b785173f-e0b5-479d-ba6c-46aaff703ec0",
     "showTitle": false,
     "title": ""
    }
   },
   "outputs": [
    {
     "output_type": "display_data",
     "data": {
      "text/html": [
       "<style scoped>\n",
       "  .table-result-container {\n",
       "    max-height: 300px;\n",
       "    overflow: auto;\n",
       "  }\n",
       "  table, th, td {\n",
       "    border: 1px solid black;\n",
       "    border-collapse: collapse;\n",
       "  }\n",
       "  th, td {\n",
       "    padding: 5px;\n",
       "  }\n",
       "  th {\n",
       "    text-align: left;\n",
       "  }\n",
       "</style><div class='table-result-container'><table class='table-result'><thead style='background-color: white'><tr><th>version</th><th>timestamp</th><th>userId</th><th>userName</th><th>operation</th><th>operationParameters</th><th>job</th><th>notebook</th><th>clusterId</th><th>readVersion</th><th>isolationLevel</th><th>isBlindAppend</th><th>operationMetrics</th><th>userMetadata</th><th>engineInfo</th></tr></thead><tbody><tr><td>3</td><td>2024-05-10T19:41:33Z</td><td>7380387950983211</td><td>varman@prasannameghala06outlook.onmicrosoft.com</td><td>RESTORE</td><td>Map(version -> 0, timestamp -> null)</td><td>null</td><td>List(3180590701567479)</td><td>0510-173242-2nsdl8y3</td><td>2</td><td>Serializable</td><td>false</td><td>Map(numRestoredFiles -> 2, removedFilesSize -> 3628, numRemovedFiles -> 3, restoredFilesSize -> 2496, numOfFilesAfterRestore -> 9, tableSizeAfterRestore -> 11111)</td><td>null</td><td>Databricks-Runtime/13.3.x-scala2.12</td></tr><tr><td>2</td><td>2024-05-10T19:26:50Z</td><td>7380387950983211</td><td>varman@prasannameghala06outlook.onmicrosoft.com</td><td>DELETE</td><td>Map(predicate -> [\"(order_id#2747 = 100)\"])</td><td>null</td><td>List(3180590701567479)</td><td>0510-173242-2nsdl8y3</td><td>1</td><td>WriteSerializable</td><td>false</td><td>Map(numRemovedFiles -> 1, numRemovedBytes -> 1244, numCopiedRows -> 11, numDeletionVectorsAdded -> 0, numDeletionVectorsRemoved -> 0, numAddedChangeFiles -> 0, executionTimeMs -> 1192, numDeletedRows -> 1, scanTimeMs -> 450, numAddedFiles -> 1, numAddedBytes -> 1236, rewriteTimeMs -> 742)</td><td>null</td><td>Databricks-Runtime/13.3.x-scala2.12</td></tr><tr><td>1</td><td>2024-05-10T19:23:27Z</td><td>7380387950983211</td><td>varman@prasannameghala06outlook.onmicrosoft.com</td><td>UPDATE</td><td>Map(predicate -> [\"(order_id#1543 = 1)\"])</td><td>null</td><td>List(3180590701567479)</td><td>0510-173242-2nsdl8y3</td><td>0</td><td>WriteSerializable</td><td>false</td><td>Map(numRemovedFiles -> 1, numRemovedBytes -> 1252, numCopiedRows -> 12, numDeletionVectorsAdded -> 0, numDeletionVectorsRemoved -> 0, numAddedChangeFiles -> 0, executionTimeMs -> 3630, scanTimeMs -> 2404, numAddedFiles -> 2, numUpdatedRows -> 1, numAddedBytes -> 2392, rewriteTimeMs -> 1198)</td><td>null</td><td>Databricks-Runtime/13.3.x-scala2.12</td></tr><tr><td>0</td><td>2024-05-10T17:45:13Z</td><td>7380387950983211</td><td>varman@prasannameghala06outlook.onmicrosoft.com</td><td>CREATE OR REPLACE TABLE AS SELECT</td><td>Map(partitionBy -> [\"order_status\"], description -> null, isManaged -> false, properties -> {}, statsOnLoad -> false)</td><td>null</td><td>List(3180590701567479)</td><td>0510-173242-2nsdl8y3</td><td>null</td><td>WriteSerializable</td><td>false</td><td>Map(numFiles -> 9, numOutputRows -> 100, numOutputBytes -> 11111)</td><td>null</td><td>Databricks-Runtime/13.3.x-scala2.12</td></tr></tbody></table></div>"
      ]
     },
     "metadata": {
      "application/vnd.databricks.v1+output": {
       "addedWidgets": {},
       "aggData": [],
       "aggError": "",
       "aggOverflow": false,
       "aggSchema": [],
       "aggSeriesLimitReached": false,
       "aggType": "",
       "arguments": {},
       "columnCustomDisplayInfos": {},
       "data": [
        [
         3,
         "2024-05-10T19:41:33Z",
         "7380387950983211",
         "varman@prasannameghala06outlook.onmicrosoft.com",
         "RESTORE",
         {
          "timestamp": null,
          "version": "0"
         },
         null,
         [
          "3180590701567479"
         ],
         "0510-173242-2nsdl8y3",
         2,
         "Serializable",
         false,
         {
          "numOfFilesAfterRestore": "9",
          "numRemovedFiles": "3",
          "numRestoredFiles": "2",
          "removedFilesSize": "3628",
          "restoredFilesSize": "2496",
          "tableSizeAfterRestore": "11111"
         },
         null,
         "Databricks-Runtime/13.3.x-scala2.12"
        ],
        [
         2,
         "2024-05-10T19:26:50Z",
         "7380387950983211",
         "varman@prasannameghala06outlook.onmicrosoft.com",
         "DELETE",
         {
          "predicate": "[\"(order_id#2747 = 100)\"]"
         },
         null,
         [
          "3180590701567479"
         ],
         "0510-173242-2nsdl8y3",
         1,
         "WriteSerializable",
         false,
         {
          "executionTimeMs": "1192",
          "numAddedBytes": "1236",
          "numAddedChangeFiles": "0",
          "numAddedFiles": "1",
          "numCopiedRows": "11",
          "numDeletedRows": "1",
          "numDeletionVectorsAdded": "0",
          "numDeletionVectorsRemoved": "0",
          "numRemovedBytes": "1244",
          "numRemovedFiles": "1",
          "rewriteTimeMs": "742",
          "scanTimeMs": "450"
         },
         null,
         "Databricks-Runtime/13.3.x-scala2.12"
        ],
        [
         1,
         "2024-05-10T19:23:27Z",
         "7380387950983211",
         "varman@prasannameghala06outlook.onmicrosoft.com",
         "UPDATE",
         {
          "predicate": "[\"(order_id#1543 = 1)\"]"
         },
         null,
         [
          "3180590701567479"
         ],
         "0510-173242-2nsdl8y3",
         0,
         "WriteSerializable",
         false,
         {
          "executionTimeMs": "3630",
          "numAddedBytes": "2392",
          "numAddedChangeFiles": "0",
          "numAddedFiles": "2",
          "numCopiedRows": "12",
          "numDeletionVectorsAdded": "0",
          "numDeletionVectorsRemoved": "0",
          "numRemovedBytes": "1252",
          "numRemovedFiles": "1",
          "numUpdatedRows": "1",
          "rewriteTimeMs": "1198",
          "scanTimeMs": "2404"
         },
         null,
         "Databricks-Runtime/13.3.x-scala2.12"
        ],
        [
         0,
         "2024-05-10T17:45:13Z",
         "7380387950983211",
         "varman@prasannameghala06outlook.onmicrosoft.com",
         "CREATE OR REPLACE TABLE AS SELECT",
         {
          "description": null,
          "isManaged": "false",
          "partitionBy": "[\"order_status\"]",
          "properties": "{}",
          "statsOnLoad": "false"
         },
         null,
         [
          "3180590701567479"
         ],
         "0510-173242-2nsdl8y3",
         null,
         "WriteSerializable",
         false,
         {
          "numFiles": "9",
          "numOutputBytes": "11111",
          "numOutputRows": "100"
         },
         null,
         "Databricks-Runtime/13.3.x-scala2.12"
        ]
       ],
       "datasetInfos": [],
       "dbfsResultPath": null,
       "isJsonSchema": true,
       "metadata": {
        "dataframeName": "_sqldf",
        "executionCount": 63
       },
       "overflow": false,
       "plotOptions": {
        "customPlotOptions": {},
        "displayType": "table",
        "pivotAggregation": null,
        "pivotColumns": null,
        "xColumns": null,
        "yColumns": null
       },
       "removedWidgets": [],
       "schema": [
        {
         "metadata": "{}",
         "name": "version",
         "type": "\"long\""
        },
        {
         "metadata": "{}",
         "name": "timestamp",
         "type": "\"timestamp\""
        },
        {
         "metadata": "{}",
         "name": "userId",
         "type": "\"string\""
        },
        {
         "metadata": "{}",
         "name": "userName",
         "type": "\"string\""
        },
        {
         "metadata": "{}",
         "name": "operation",
         "type": "\"string\""
        },
        {
         "metadata": "{}",
         "name": "operationParameters",
         "type": "{\"type\":\"map\",\"keyType\":\"string\",\"valueType\":\"string\",\"valueContainsNull\":true}"
        },
        {
         "metadata": "{}",
         "name": "job",
         "type": "{\"type\":\"struct\",\"fields\":[{\"name\":\"jobId\",\"type\":\"string\",\"nullable\":true,\"metadata\":{}},{\"name\":\"jobName\",\"type\":\"string\",\"nullable\":true,\"metadata\":{}},{\"name\":\"jobRunId\",\"type\":\"string\",\"nullable\":true,\"metadata\":{}},{\"name\":\"runId\",\"type\":\"string\",\"nullable\":true,\"metadata\":{}},{\"name\":\"jobOwnerId\",\"type\":\"string\",\"nullable\":true,\"metadata\":{}},{\"name\":\"triggerType\",\"type\":\"string\",\"nullable\":true,\"metadata\":{}}]}"
        },
        {
         "metadata": "{}",
         "name": "notebook",
         "type": "{\"type\":\"struct\",\"fields\":[{\"name\":\"notebookId\",\"type\":\"string\",\"nullable\":true,\"metadata\":{}}]}"
        },
        {
         "metadata": "{}",
         "name": "clusterId",
         "type": "\"string\""
        },
        {
         "metadata": "{}",
         "name": "readVersion",
         "type": "\"long\""
        },
        {
         "metadata": "{}",
         "name": "isolationLevel",
         "type": "\"string\""
        },
        {
         "metadata": "{}",
         "name": "isBlindAppend",
         "type": "\"boolean\""
        },
        {
         "metadata": "{}",
         "name": "operationMetrics",
         "type": "{\"type\":\"map\",\"keyType\":\"string\",\"valueType\":\"string\",\"valueContainsNull\":true}"
        },
        {
         "metadata": "{}",
         "name": "userMetadata",
         "type": "\"string\""
        },
        {
         "metadata": "{}",
         "name": "engineInfo",
         "type": "\"string\""
        }
       ],
       "type": "table"
      }
     },
     "output_type": "display_data"
    }
   ],
   "source": [
    "%sql\n",
    "describe history delta2"
   ]
  },
  {
   "cell_type": "code",
   "execution_count": 0,
   "metadata": {
    "application/vnd.databricks.v1+cell": {
     "cellMetadata": {
      "byteLimit": 2048000,
      "implicitDf": true,
      "rowLimit": 10000
     },
     "inputWidgets": {},
     "nuid": "4da126c9-08f9-429b-ba9a-61130de7a1ca",
     "showTitle": false,
     "title": ""
    }
   },
   "outputs": [
    {
     "output_type": "display_data",
     "data": {
      "text/html": [
       "<style scoped>\n",
       "  .table-result-container {\n",
       "    max-height: 300px;\n",
       "    overflow: auto;\n",
       "  }\n",
       "  table, th, td {\n",
       "    border: 1px solid black;\n",
       "    border-collapse: collapse;\n",
       "  }\n",
       "  th, td {\n",
       "    padding: 5px;\n",
       "  }\n",
       "  th {\n",
       "    text-align: left;\n",
       "  }\n",
       "</style><div class='table-result-container'><table class='table-result'><thead style='background-color: white'><tr><th>count(1)</th></tr></thead><tbody><tr><td>100</td></tr></tbody></table></div>"
      ]
     },
     "metadata": {
      "application/vnd.databricks.v1+output": {
       "addedWidgets": {},
       "aggData": [],
       "aggError": "",
       "aggOverflow": false,
       "aggSchema": [],
       "aggSeriesLimitReached": false,
       "aggType": "",
       "arguments": {},
       "columnCustomDisplayInfos": {},
       "data": [
        [
         100
        ]
       ],
       "datasetInfos": [],
       "dbfsResultPath": null,
       "isJsonSchema": true,
       "metadata": {
        "dataframeName": "_sqldf",
        "executionCount": 65
       },
       "overflow": false,
       "plotOptions": {
        "customPlotOptions": {},
        "displayType": "table",
        "pivotAggregation": null,
        "pivotColumns": null,
        "xColumns": null,
        "yColumns": null
       },
       "removedWidgets": [],
       "schema": [
        {
         "metadata": "{\"__autoGeneratedAlias\":\"true\"}",
         "name": "count(1)",
         "type": "\"long\""
        }
       ],
       "type": "table"
      }
     },
     "output_type": "display_data"
    }
   ],
   "source": [
    "\n",
    "%sql\n",
    "select count(*) from delta2"
   ]
  },
  {
   "cell_type": "code",
   "execution_count": 0,
   "metadata": {
    "application/vnd.databricks.v1+cell": {
     "cellMetadata": {
      "byteLimit": 2048000,
      "rowLimit": 10000
     },
     "inputWidgets": {},
     "nuid": "d26b045b-1962-4cbb-b53a-35e7e3ba096c",
     "showTitle": false,
     "title": ""
    }
   },
   "outputs": [
    {
     "output_type": "execute_result",
     "data": {
      "text/plain": [
       "[FileInfo(path='dbfs:/FileStore/blobstorage.png', name='blobstorage.png', size=75392, modificationTime=1715372061000),\n",
       " FileInfo(path='dbfs:/FileStore/issue_description.png', name='issue_description.png', size=43191, modificationTime=1715371562000),\n",
       " FileInfo(path='dbfs:/FileStore/tables/', name='tables/', size=0, modificationTime=1715371552000)]"
      ]
     },
     "execution_count": 91,
     "metadata": {},
     "output_type": "execute_result"
    }
   ],
   "source": [
    "dbutils.fs.ls(\"/FileStore\")"
   ]
  },
  {
   "cell_type": "markdown",
   "metadata": {
    "application/vnd.databricks.v1+cell": {
     "cellMetadata": {
      "byteLimit": 2048000,
      "rowLimit": 10000
     },
     "inputWidgets": {},
     "nuid": "01559742-6984-453c-87af-60396fdcac25",
     "showTitle": false,
     "title": ""
    }
   },
   "source": [
    "![my_test_image](Filestore/issue_description.png)"
   ]
  },
  {
   "cell_type": "code",
   "execution_count": 0,
   "metadata": {
    "application/vnd.databricks.v1+cell": {
     "cellMetadata": {
      "byteLimit": 2048000,
      "rowLimit": 10000
     },
     "inputWidgets": {},
     "nuid": "75491e5a-e208-4d12-be2e-416f39be8ca6",
     "showTitle": false,
     "title": ""
    }
   },
   "outputs": [
    {
     "output_type": "display_data",
     "data": {
      "text/markdown": [
       "![my_test_image](files/blobstorage.png)\n"
      ],
      "text/plain": [
       "<IPython.core.display.Markdown object>"
      ]
     },
     "metadata": {},
     "output_type": "display_data"
    }
   ],
   "source": [
    "%%markdown\n",
    "![my_test_image](files/blobstorage.png)"
   ]
  },
  {
   "cell_type": "code",
   "execution_count": 0,
   "metadata": {
    "application/vnd.databricks.v1+cell": {
     "cellMetadata": {},
     "inputWidgets": {},
     "nuid": "57533e72-3538-44e2-a8b0-02b0b6eb2dca",
     "showTitle": false,
     "title": ""
    }
   },
   "outputs": [],
   "source": []
  }
 ],
 "metadata": {
  "application/vnd.databricks.v1+notebook": {
   "dashboards": [],
   "language": "python",
   "notebookMetadata": {
    "mostRecentlyExecutedCommandWithImplicitDF": {
     "commandId": 4293287978551118,
     "dataframes": [
      "_sqldf"
     ]
    },
    "pythonIndentUnit": 4
   },
   "notebookName": "Untitled Notebook 2024-05-10 13:37:50",
   "widgets": {}
  }
 },
 "nbformat": 4,
 "nbformat_minor": 0
}
